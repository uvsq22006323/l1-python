{
 "cells": [
  {
   "cell_type": "markdown",
   "metadata": {
    "slideshow": {
     "slide_type": "slide"
    }
   },
   "source": [
    "# TD 2: Les structures de contrôle\n",
    "\n",
    "---\n",
    "\n",
    "## 0. Récupération des nouveaux documents\n",
    "\n",
    "\n",
    "Les sujets de TD ainsi que les supports de cours sont publiés en ligne au fur et à mesure sur l'espace github original [https://github.com/uvsq-info/l1-python](https://github.com/uvsq-info/l1-python). Au moment où vous avez fait le fork de cet espace sur votre espace personnel, il est probable que tous les contenus n'étaient pas présents. Pour compléter votre espace, deux solutions sont possibles:\n",
    "\n",
    "\n",
    "1. (solution à privilégier) aller sur la page du projet original [https://github.com/uvsq-info/l1-python](https://github.com/uvsq-info/l1-python), et cliquer sur le bouton vert `Code` en haut à droite. Choisir `download ZIP`, puis extraire l'ensemble des nouveaux fichiers vers votre projet personnel local. Vous pouvez ensuite sauvegarder ces ajouts dans votre espace github personnel en suivant la procédure habituelle.\n",
    "2. (solution qui présente des risques de conflits entre différentes versions d'un même document) en ligne de commande dans le terminal, en suivant la procédure de la section *Intégrer les mises à jour du projet original* du fichier [README.md](https://github.com/uvsq-info/l1-python/blob/master/README.md#int%C3%A9grer-les-mises-%C3%A0-jour-du-projet-original)\n"
   ]
  },
  {
   "cell_type": "markdown",
   "metadata": {
    "slideshow": {
     "slide_type": "slide"
    }
   },
   "source": [
    "---\n",
    "\n",
    "## 1. Premiers exercices avec les structures conditionnelles\n",
    "\n",
    "**Exercice 1:**\n",
    "\n",
    "1. Soit *num1 = 15* et *num2 = 5*. Ecrire un programme qui affiche *Factors!* si l'un des nombres est un facteur de l'autre (c'est-à-dire qu'il divise l'autre nombre). Si aucun des nombres n'est un facteur de l'autre, le programme n'affiche rien.\n",
    "2. Changer le code que vous avez écrit de telle sorte qu'il affiche toujours *Factors!* si un nombre est un facteur de l'autre, mais qui affiche aussi *Not factors!* si aucun des nombres n'est un facteur de l'autre."
   ]
  },
  {
   "cell_type": "code",
   "execution_count": null,
   "metadata": {
    "slideshow": {
     "slide_type": "notes"
    }
   },
   "outputs": [],
   "source": [
    "num1 = 15\n",
    "num2 = 5\n",
    "\n",
    "if num1%num2 == 0 or num2%num1 == 0:\n",
    "    print (\"Factors\")\n",
    "else:\n",
    "    print (\"Not factors\")"
   ]
  },
  {
   "cell_type": "markdown",
   "metadata": {
    "slideshow": {
     "slide_type": "slide"
    }
   },
   "source": [
    "**Exercice 2:**\n",
    "    \n",
    "Soit *state = \"Georgia\"*. Ecrire un programme qui permet d'afficher un message spécifique en fonction de la variable *state* :  \n",
    "* \"School isn't cancelled.\" si nous sommes à New Jersey,  \n",
    "* \"School is postponed.\" si nous sommes à North Carolina,\n",
    "* \"School is cancelled!\" si nous sommes à Georgia,  \n",
    "* \"School's status is unknown\" si nous ne sommes pas dans un des trois états précédemment mentionnés."
   ]
  },
  {
   "cell_type": "code",
   "execution_count": 1,
   "metadata": {
    "slideshow": {
     "slide_type": "notes"
    }
   },
   "outputs": [
    {
     "output_type": "stream",
     "name": "stdout",
     "text": [
      "School is cancelled!\n"
     ]
    }
   ],
   "source": [
    "state = \"Georgia\"\n",
    "\n",
    "if state == \"New Jersey\":\n",
    "    print(\"School isn't cancelled.\")\n",
    "elif state == \"North Carolina\":\n",
    "    print(\"School is postponed.\")\n",
    "elif state == \"Georgia\":\n",
    "    print(\"School is cancelled!\")\n",
    "else :\n",
    "    print(\"School's status is unknown\")"
   ]
  },
  {
   "cell_type": "markdown",
   "metadata": {
    "slideshow": {
     "slide_type": "slide"
    }
   },
   "source": [
    "**Exercice 3:**\n",
    "\n",
    "Ecrire un programme pour découvrir le signe du zodiaque chinois pour une année donnée. Le signe du zodiaque chinois est basé sur un cycle de 12 ans et chaque année de ce cycle est représentée par un animal :\n",
    "* 0: monkey\n",
    "* 1: rooster\n",
    "* 2: dog\n",
    "* 3: pig\n",
    "* 4: rat\n",
    "* 5: ox\n",
    "* 6: tiger\n",
    "* 7: rabbit\n",
    "* 8: dragon\n",
    "* 9: snake\n",
    "* 10: horse\n",
    "* 11: sheep\n",
    "\n",
    "La valeur de l'année % 12 détermine le signe du zodiaque. Par exemple, 1900 est l'année du *rat* puisque 1900 % 12 est 4."
   ]
  },
  {
   "cell_type": "code",
   "execution_count": null,
   "metadata": {
    "slideshow": {
     "slide_type": "notes"
    }
   },
   "outputs": [],
   "source": [
    "year = int(input(\"En quelle année êtes-vous né(e) ?\"))\n",
    "signe = [\"le singe\", \"le coq\", \"le chien\", \"le cochon\", \"le rat\", \"le bœuf\", \"le tigre\", \"le lapin\", \"le dragon\", \"le serpent\", \"le cheval\", \"le mouton\"]\n",
    "\n",
    "print(\"Votre signe du zodiaque est \"+signe[int(year%12)]+\".\")"
   ]
  },
  {
   "cell_type": "markdown",
   "metadata": {
    "slideshow": {
     "slide_type": "slide"
    }
   },
   "source": [
    "**Exercice 4:**\n",
    "\n",
    "Soit *temperature = -3.7* et *celsius = True*. *celsius* est une variable booléenne qui indique si la température est en Celsius; si c'est *False*, alors la température donnée est en Fahrenheit. Ecrire un premier programme en utilisant *if-else* seulement qui permet d'afficher *Freezing* si les valeurs données représentent une température très basse, et *Not freezing* si ce n'est pas le cas. En Celsius, on considère qu'il fait très froid lorsque la température est inférieure ou égale à 0 degré. En Fahrenheit, on considère qu'il fait très froid lorsque la température est inférieure ou égale à 32 degrés. Proposer une seconde solution en utilisant *if-elif-else* à ce même problème."
   ]
  },
  {
   "cell_type": "code",
   "execution_count": null,
   "metadata": {
    "slideshow": {
     "slide_type": "notes"
    }
   },
   "outputs": [],
   "source": [
    "temperature = -3.7\n",
    "celsius = True\n",
    "Farenheit = False #dans ce cas, c'est vrai non ?\n",
    "\n",
    "if temperature <=0 and celsius == True:\n",
    "    print(\"Freezing in Celsius\")\n",
    "elif temperature <= -32 and Farenheit == True:\n",
    "    print (\"Freezing in Farenheit\")\n",
    "else:\n",
    "    print(\"Not freezing\")\n"
   ]
  },
  {
   "cell_type": "markdown",
   "metadata": {
    "slideshow": {
     "slide_type": "slide"
    }
   },
   "source": [
    "**Exercice 5:**\n",
    "    \n",
    "Ecrire un programme qui permet de déterminer si une année est bissextile ou non en utilisant une seule instruction *if-else*. Une année *A* est bissextile si *A* est divisible par 4. Elle ne l’est cependant pas si *A* est un multiple\n",
    "de 100, à moins que *A* ne soit multiple de 400.    "
   ]
  },
  {
   "cell_type": "code",
   "execution_count": null,
   "metadata": {
    "slideshow": {
     "slide_type": "notes"
    }
   },
   "outputs": [],
   "source": [
    "A = int(input (\"A ?\"))\n",
    "\n",
    "if A%4 ==0 and (A%100 != 0 or A%400 == 0):\n",
    "    print(\"L'année est bissextile.\")\n",
    "else :\n",
    "    print(\"L'année n'est pas bissextile.\")"
   ]
  },
  {
   "source": [
    "---\n",
    "\n",
    "## 2. Premiers exercices avec les structures itératives\n",
    "\n",
    "**Exercice 6:**\n",
    "\n",
    "1. Ecrire un programme qui permet d'afficher tous les nombres entre 1 et 10 (bornes incluses).\n",
    "2. Ecrire un programme se limitant à la boucle *for* qui permet d'afficher tous les nombres pairs entre 1 et 20 (bornes incluses). Proposer une deuxième solution en incluant une structure conditionnelle."
   ],
   "cell_type": "markdown",
   "metadata": {}
  },
  {
   "cell_type": "code",
   "execution_count": null,
   "metadata": {},
   "outputs": [],
   "source": [
    "for i in range(0,21, 2):\n",
    "    print(i)\n",
    "print(\"\\n\")\n",
    "\n",
    "for i in range(21):\n",
    "    if i%2 == 0:\n",
    "        print(i)"
   ]
  },
  {
   "source": [
    "**Exercice 7:**\n",
    "    \n",
    "1. Ecrire un programme qui demande à l'utilisateur de saisir *n* nombres, *n* étant choisi par l'utilisateur, puis d'afficher la moyenne de ces nombres.\n",
    "\n",
    "2. Même question, mais l'utilisateur ne choisit pas à l'avance le nombre *n*, la procédure s'arrête quand il saisit le nombre -1.\n"
   ],
   "cell_type": "markdown",
   "metadata": {}
  },
  {
   "cell_type": "code",
   "execution_count": null,
   "metadata": {},
   "outputs": [],
   "source": [
    "#1\n",
    "n = int(input(\"Quel nombre choissisez-vous ?\"))\n",
    "m = 0\n",
    "\n",
    "for i in range (1,n+1, 1):\n",
    "    m += i\n",
    "    print(i)\n",
    "print(m)\n",
    "print (\"moyenne = \", m/n)"
   ]
  },
  {
   "cell_type": "code",
   "execution_count": null,
   "metadata": {},
   "outputs": [],
   "source": [
    "#2\n",
    "n = int(input(\"Quel nombre choissisez-vous ?\"))\n",
    "m = 0\n",
    "\n",
    "for i in range (1,n+1, 1):\n",
    "    if n == -1:\n",
    "        print(\"\")\n",
    "    m += i\n",
    "    print(i)\n",
    "print(m)\n",
    "print (\"moyenne = \", m/n)"
   ]
  },
  {
   "source": [
    "**Exercice 8:**\n",
    "\n",
    "Ecrire un programme qui permet de calculer le factoriel d'un nombre positif donné par l'utlisateur selon la formule suivante : \n",
    "n! = 1 x 2 x ... x n.  \n",
    "\n",
    "1. Une première version en utilisant la boucle *for*\n",
    "2. Une seconde version en utilisant la boucle *while*"
   ],
   "cell_type": "markdown",
   "metadata": {}
  },
  {
   "cell_type": "code",
   "execution_count": null,
   "metadata": {},
   "outputs": [],
   "source": [
    "#1\n",
    "n = int(input (\"Quel nombre choisissez vous ?\"))\n",
    "m = 1\n",
    "\n",
    "for i in range (1,n+1):\n",
    "    m = m * i\n",
    "print(\"n! = \", m)\n"
   ]
  },
  {
   "cell_type": "code",
   "execution_count": null,
   "metadata": {},
   "outputs": [],
   "source": [
    "#2\n",
    "n = int(input (\"Quel nombre choisissez vous ?\"))\n",
    "m = 1\n",
    "mm = 1\n",
    "while mm <= n:\n",
    "    m = m * mm\n",
    "    mm += 1\n",
    "print(\"n! = \", m)"
   ]
  },
  {
   "cell_type": "markdown",
   "metadata": {
    "slideshow": {
     "slide_type": "slide"
    }
   },
   "source": [
    "---\n",
    "\n",
    "## 3. Pour aller plus loin\n",
    "\n",
    "**Excercice 9:**\n",
    "\n",
    "Ecrire un programme qui permet de connaître le jour de naissance de l'utilisateur en posant cinq questions.\n",
    "Chaque question demande si le jour est dans l'un des cinq ensembles suivants :\n",
    "\n",
    "* Set 1: \\[1 3 5 7 9 11 13 15 17 19 21 23 25 27 29 31\\]\n",
    "* Set 2: \\[2 3 6 7 10 11 14 15 18 19 22 23 26 27 30 31\\]\n",
    "* Set 3: \\[4 5 6 7 12 13 14 15 20 21 22 23 28 29 30 31\\]\n",
    "* Set 4: \\[8 9 10 11 12 13 14 15 24 25 26 27 28 29 30 31\\]\n",
    "* Set 5: \\[16 17 18 19 20 21 22 23 24 25 26 27 28 29 30 31\\]\n",
    "    \n",
    "\n",
    "Le jour de naissance est la somme des premiers nombres dans les ensembles où le jour apparaît. Par exemple,\n",
    "si le jour de naissance est 19, il apparaît dans Set 1, Set 2 et Set 5. Les premiers chiffres de ces trois ensembles sont 1, 2 et 16. Leur somme est 19."
   ]
  },
  {
   "cell_type": "code",
   "execution_count": null,
   "metadata": {
    "slideshow": {
     "slide_type": "notes"
    }
   },
   "outputs": [],
   "source": [
    "Set1 = [\"1\", \"3\", \"5\", \"7\", \"9\", \"11\", \"13\", \"15\", \"17\", \"19\", \"21\", \"23\", \"25\", \"27\", \"29\", \"31\"]\n",
    "Set2 = [\"2\", \"3\", \"6\", \"7\", \"10\", \"11\", \"14\", \"15\", \"18\", \"19\", \"22\", \"23\", \"26\", \"27\", \"30\", \"31\"]\n",
    "Set3 =  [\"4\", \"5\", \"6\", \"7\", \"12\", \"13\", \"14\", \"15\", \"20\", \"21\", \"22\", \"23\", \"28\", \"29\", \"30\", \"31\"]\n",
    "Set4 = [\"8\", \"9\", \"10\", \"11\", \"12\", \"13\", \"14\", \"15\", \"24\", \"25\", \"26\", \"27\", \"28\", \"29\", \"30\", \"31\"]\n",
    "Set5 = [\"16\", \"17\", \"18\", \"19\", \"20\", \"21\", \"22\", \"23\", \"24\", \"25\", \"26\", \"27\", \"28\", \"29\", \"30\", \"31\"]\n",
    "final = 0\n",
    "\n",
    "print(Set1)\n",
    "Jour = str(input(\"Votre jour de naissance se trouve-t-il dans le Set 1 ?\"))\n",
    "if Jour.lower() == \"oui\":\n",
    "    final = final + int(Set1[0])\n",
    "print(Set2)\n",
    "Jour = str(input(\"Votre jour de naissance se trouve-t-il dans le Set 2 ?\"))\n",
    "if Jour.lower() == \"oui\":\n",
    "    final = final + int(Set2[0])\n",
    "print(Set3)\n",
    "Jour = str(input(\"Votre jour de naissance se trouve-t-il dans le Set 3 ?\"))\n",
    "if Jour.lower() == \"oui\":\n",
    "    final = final + int(Set3[0])\n",
    "print(Set4)\n",
    "Jour = str(input(\"Votre jour de naissance se trouve-t-il dans le Set 4 ?\"))\n",
    "if Jour.lower() == \"oui\":\n",
    "    final = final + int(Set4[0])\n",
    "print(Set5)\n",
    "Jour = str(input(\"Votre jour de naissance se trouve-t-il dans le Set 5 ?\"))\n",
    "if Jour.lower() == \"oui\":\n",
    "    final = final + int(Set5[0])\n",
    "\n",
    "print(final)"
   ]
  },
  {
   "cell_type": "markdown",
   "metadata": {
    "slideshow": {
     "slide_type": "slide"
    }
   },
   "source": [
    "**Excercice 10:**\n",
    "\n",
    "Ecrire un programme qui permet de génèrer de manière aléatoire un nombre à deux chiffres, invite l'utilisateur à saisir un nombre à deux chiffres et détermine si l'utilisateur gagne selon les règles suivantes :\n",
    "* Si l'entrée de l'utilisateur correspond à la loterie (le nombre généré aléatoirement) dans l'ordre exact, la récompense est de 10 000€.\n",
    "* Sinon, si les deux chiffres entrés par l'utilisateur correspondent aux deux chiffres du numéro de loterie, la récompense est de 3 000€.\n",
    "* Sinon, si un chiffre dans l'entrée de l'utilisateur correspond à un chiffre dans le numéro de loterie, la récompense est de 1 000€.\n",
    "\n",
    "**Astuce :** Utiliser la fonction **random.randint(0, 99)** pour génèrer de manière aléatoire un nombre à deux chiffres. Cette fonction doit être accompagné par **import random** comme première instruction dans le code."
   ]
  },
  {
   "cell_type": "code",
   "execution_count": null,
   "metadata": {
    "slideshow": {
     "slide_type": "notes"
    }
   },
   "outputs": [],
   "source": [
    "import random\n",
    "lotterie = random.randint(0, 99)\n",
    "\n",
    "Dl = lotterie // 10\n",
    "Ul = lotterie % 10\n",
    "\n",
    "essai = int(input(\"Quel nombre pensez-vous être le bon ?\"))\n",
    "\n",
    "De = essai // 10\n",
    "Ue = essai % 10\n",
    "if essai == lotterie:\n",
    "    print(\"Bravo ! votre récompense est de 10 000€ !\")\n",
    "elif Dl == Ue and Ul == De:\n",
    "    print(\"Presque ! Vous gagnez 3 000€ !\")\n",
    "elif Dl == De or Dl == Ue or Ul == De or Ul == Ue:\n",
    "    print(\"Pas si loin, vous gagnez 1 000€ !\")\n",
    "else:\n",
    "    print(\"Vous n'aviez aucun chiffre d'exact ! Retentez votre chance une prochaine fois...\")"
   ]
  },
  {
   "source": [
    "**Exercice 11:**\n",
    "    \n",
    "Ecrire un programme qui permet de calculer la somme des chiffres d'un entier *n* donné. Le nombre *n* doit être compris entre 10 et 20 (bornes incluses)."
   ],
   "cell_type": "markdown",
   "metadata": {}
  },
  {
   "cell_type": "code",
   "execution_count": null,
   "metadata": {},
   "outputs": [],
   "source": [
    "n = int(input(\"Entrez un nombre n compris entre 10 et 20 inclus.\"))\n",
    "\n",
    "D = n//10\n",
    "U = n%10\n",
    "\n",
    "if n => 10 and n<+ 20:\n",
    "    print(\"La somme des deux chiffres de n est\", (D + U),\".\")\n",
    "else:\n",
    "    print(\"Votre chiffre n'est pas compris dans les\")"
   ]
  },
  {
   "source": [
    "**Exercice 12:**\n",
    "\n",
    "1. Ecrire un programme qui permet de générer aléatoirement deux nombres entre 0 et 9, de calculer leurs différences (en valeur absolue), puis d'inviter l'utilisateur à répondre à la question suivante *que vaut abs(number1 - number2)?*. Le programme doit permettre à l'utilisateur de répondre plusieurs fois jusqu'à la saisie de la bonne réponse.\n",
    "2. Modifier le programme précédent de telle sorte qu'il génère cinq occurences à la suite invitant à répondre à la question précédente. A la fin, le programme affiche le nombre moyen de tentatives qu'il a fallu à l'utilisateur pour répondre à une question."
   ],
   "cell_type": "markdown",
   "metadata": {}
  },
  {
   "cell_type": "code",
   "execution_count": null,
   "metadata": {
    "tags": []
   },
   "outputs": [],
   "source": [
    "#1\n",
    "import random\n",
    "rép = \"\"\n",
    "tent = 0\n",
    "\n",
    "number1 = random.randint(0, 9)\n",
    "number2 = random.randint(0, 9)\n",
    "    \n",
    "diff = number1 - number2\n",
    "if diff < 0:\n",
    "    diff = - diff\n",
    "print (diff)\n",
    "\n",
    "rép = int(input(\"Que pensez-vous que vaut num1 - num2 ?\"))\n",
    "tent = 0\n",
    "while rép != diff:\n",
    "    print(\"Non ! Réessayez !\")\n",
    "    rép = int(input (\"Que pensez-vous que vaut num1 - num2 en valeur absolue ?\"))\n",
    "    tent += 1\n",
    "    print(\"Gagné ! Voue avez fait \", tent,\" tentative(s) !\")\n",
    "print(\"C'est fini ! Merci d'avoir joué !\")"
   ]
  },
  {
   "cell_type": "code",
   "execution_count": null,
   "metadata": {
    "tags": []
   },
   "outputs": [],
   "source": [
    "#2\n",
    "import random\n",
    "rép = \"\"\n",
    "tent = 0\n",
    "tentf = 0\n",
    "\n",
    "for i in range (5):\n",
    "    number1 = random.randint(0, 9)\n",
    "    number2 = random.randint(0, 9)\n",
    "    \n",
    "    diff = number1 - number2\n",
    "    if diff < 0:\n",
    "        diff = - diff\n",
    "    print (diff)\n",
    "\n",
    "    rép = int(input(\"Que pensez-vous que vaut num1 - num2 ?\"))\n",
    "    tent = 0\n",
    "    while rép != diff:\n",
    "        print(\"Non ! Réessayez !\")\n",
    "        rép = int(input (\"Que pensez-vous que vaut num1 - num2 en valeur absolue ?\"))\n",
    "        tent += 1\n",
    "    tentf = tentf + tent\n",
    "    print(\"Gagné ! Voue avez fait \", tent,\" tentative(s) !\")\n",
    "print(\"C'est fini ! Merci d'avoir joué !\")\n",
    "print(\"Votre nombre de tentatives total est de \", tentf,\" tentatives.\")"
   ]
  },
  {
   "source": [
    "**Exercice 13:**\n",
    "\n",
    "Ecrire un programme qui permet de calculer le nombre de mots dans une phrase saisie par l'utilisateur."
   ],
   "cell_type": "markdown",
   "metadata": {}
  },
  {
   "cell_type": "code",
   "execution_count": null,
   "metadata": {
    "tags": []
   },
   "outputs": [],
   "source": [
    " phr = input(\"Veuillez entrer une phrase s'il vous plaît.\")\n",
    "phrase = phr.split()\n",
    "\n",
    "if len(phrase) == 1:\n",
    "    print(\"Votre phrase comporte 1 mot.\")\n",
    "else:\n",
    "    print(\"Votre phrase comporte\", len(phrase), \"mots.\")"
   ]
  },
  {
   "cell_type": "markdown",
   "metadata": {
    "slideshow": {
     "slide_type": "slide"
    }
   },
   "source": [
    "---\n",
    "\n",
    "## 4. Pour s'entraîner\n",
    "\n",
    "**Exercice 14:**\n",
    "    \n",
    "Soit la variable my_input = \"zoophysiology\". Ecrire un script qui permet d'afficher l'un des messages suivants en fonction du nombre maximum de *o* consécutifs dans la variable *my_input*. Par exemple, le script doit afficher \"I like studying birds! I want to become an ornithologist!\" parce qu'il y a deux *o* consécutifs, même s'il y a aussi des *o* individual.\n",
    "Ignorer les *o* majuscules - recherchez que les *o* minuscules.\n",
    "\n",
    "* Si \"o\" apparaît trois fois ou plus de suite, afficher le message \"I like going to the zoo!\"  \n",
    "* Si \"o\" apparaît deux fois, afficher le message \"I like studying birds! I want to become an ornithologist!\"  \n",
    "* Si \"o\" apparaît une seule fois, afficher le message \"I like studying fish! I want to become an ichthyologist!\"  \n",
    "* Si \"o\" n'apparaît pas dans la variable *my_input*, afficher le message \"I miss going to the zoo!\"  \n",
    "\n",
    "**Astuce :** Utiliser l'opérateur **in** qui renvoie **True** si la première chaîne se trouve dans la deuxième chaîne. "
   ]
  },
  {
   "cell_type": "code",
   "execution_count": null,
   "metadata": {
    "slideshow": {
     "slide_type": "notes"
    }
   },
   "outputs": [],
   "source": [
    "my_input = \"zoophysiology\"\n",
    "Nb_o = 0\n",
    "\n",
    "for ch in my_input:\n",
    "    if ch == \"o\":\n",
    "        Nb_o += 1\n",
    "\n",
    "if Nb_o == 0:\n",
    "    print(\"I miss going to the zoo...\")\n",
    "elif Nb_o == 1:\n",
    "    print(\"I like studying fish ! I want to become a ichtyologist !\")\n",
    "elif Nb_o == 2:\n",
    "    print(\"I like studying birds ! I want to become an ornithologist\")\n",
    "else:\n",
    "    print(\"I like going to the zoo !\")"
   ]
  },
  {
   "cell_type": "markdown",
   "metadata": {
    "slideshow": {
     "slide_type": "slide"
    }
   },
   "source": [
    "**Exercice 15:**\n",
    "    \n",
    "Créer quatre variables nommées *team_1* et *team_2*, représentant deux noms d'équipes, et *team_1_score* et *team_2_score*, représentant les scores de ces deux équipes. \n",
    "Une équipe gagne si son score est supérieur à l'autre score de l'autre équipe.\n",
    " \n",
    "Ecrire un premier script qui permet d'afficher les messages suivants selon les valeurs entrées, ceci en utilisant seulement les quatres variables créées :\n",
    "* Si une équipe bat l'autre, affichez: \"\\[winner\\] beat \\[loser\\] by \\[margin\\]\"\n",
    "* Si aucune des équipes n'a gagné, affichez: \"\\[team_1\\] played \\[team_2\\] and it was a tie\"\n",
    "\n",
    "Ecrire un deuxième script qui permet d'afficher les mêmes messages mais en ajoutant trois variables de plus :\n",
    "* La variable *winner* pour définir l'équipe gagnante  \n",
    "* La variable *loser* pour définier l'équipe perdante  \n",
    "* La variable *margin* pour définir la différence entre les deux scores \n"
   ]
  },
  {
   "cell_type": "code",
   "execution_count": null,
   "metadata": {
    "slideshow": {
     "slide_type": "notes"
    }
   },
   "outputs": [],
   "source": [
    "team_1 = \"team 1\"\n",
    "team_2 = \"team 2\"\n",
    "team_1_score = input(\"Quel est le score de l'équipe 1 ?\")\n",
    "team_2_score = input(\"Quel est le score de l'équipe 2 ?\")\n",
    "\n",
    "if team_1_score == team_2_score:\n",
    "    print(\"team 1 played team 2 and it was a tie\")\n",
    "else : \n",
    "    print(\"winner beat loser by margin\")"
   ]
  },
  {
   "cell_type": "code",
   "execution_count": null,
   "metadata": {
    "slideshow": {
     "slide_type": "notes"
    }
   },
   "outputs": [],
   "source": [
    "team_1 = \"team 1\"\n",
    "team_2 = \"team 2\"\n",
    "team_1_score = int(input(\"Quel est le score de l'équipe 1 ?\"))\n",
    "team_2_score = int(input(\"Quel est le score de l'équipe 2 ?\"))\n",
    "\n",
    "winner = team_1\n",
    "loser = team_2\n",
    "margin = team_1_score - team_2_score\n",
    "\n",
    "if margin != 0:\n",
    "    if margin < 0: # team 2 a plus de points\n",
    "        winner = team_2\n",
    "        loser = team_1\n",
    "        margin = team_2_score - team_1_score\n",
    "    if margin > 0: #team 1 a plus de points\n",
    "        pass\n",
    "    print(winner, \"beats\", loser, \"by\", margin)\n",
    "else:\n",
    "    print(\"team 1 played team 2 and it was a tie\")"
   ]
  },
  {
   "cell_type": "markdown",
   "metadata": {
    "slideshow": {
     "slide_type": "slide"
    }
   },
   "source": [
    "**Exercice 16:**\n",
    "    \n",
    "L'Indice de Masse Corporelle (IMC) permet d'estimer le poids idéal en fonction de la taille. Son calcul correspond au poids en kilogrammes divisé par le carré de la taille en mètre (IMC = poids en kg/taille² en m). Le chiffre obtenu permet d'estimer la corpulence et éventuellement le surpoids ou l'obésité chez l'adulte, homme ou femme.\n",
    "L'interprétation de l'IMC pour les personnes de 16 ans et plus est la suivante :\n",
    "* Moins de 18.5: Underweight\n",
    "* Entre 18.5 et 24.9: Normal\n",
    "* Entre 25.0 et 29.9: Overweight\n",
    "* Plus que 30.0: Obese\n",
    "\n",
    "Ecrire un programme qui permet de saisir un poids en *pounds* et une taille en *inches*, de calculer et d'afficher l'IMC à deux valeurs après la virgule, et d'afficher l'interprétation la plus adéquate. Notez qu'un *pound* équivaut à 0,45359237 kilogrammes et qu'un *inch* équivaut à 0,0254 mètre.  \n",
    "\n",
    "**Astuce :** Pour afficher deux valeurs après la virgule, utilisez la fonction **format(nom_variable, \".2f\")**. Exemple : **print('La moyenne est :', format(moyenne, \".2f\"))**"
   ]
  },
  {
   "cell_type": "code",
   "execution_count": 6,
   "metadata": {
    "slideshow": {
     "slide_type": "notes"
    }
   },
   "outputs": [
    {
     "output_type": "stream",
     "name": "stdout",
     "text": [
      "Vous faîtes  54.88  kilos et   1.65 mètres.\nYou are normal\n"
     ]
    }
   ],
   "source": [
    "poids = float(input(\"Veuillez entrer votre poids en pound svp\")) * 0.45359237\n",
    "taille = float(input(\"Veuillez entrer votre taille en inch svp\")) * 0.0254\n",
    "print(\"Vous faîtes\", format(poids, \" .2f\"),\" kilos et\",format(taille, \" .2f\"),\"mètres.\")\n",
    "\n",
    "imc = poids / (taille**2)\n",
    "\n",
    "if imc < 18.5:\n",
    "    print(\"You are underweight\")\n",
    "elif 18.5 <= imc <= 24.9:\n",
    "    print(\"You are normal\")\n",
    "elif 25.0 <= imc <= 29.9:\n",
    "    print(\"You are overweight\")\n",
    "elif imc > 30.0:\n",
    "    print(\"You are obese\")"
   ]
  },
  {
   "source": [
    "**Exercice 17:**\n",
    "\n",
    "Ecrire un programme qui affiche un triangle d'étoiles de taille donnée, par exemple si on entre 6, le programme affiche:\n",
    "```\n",
    "*\n",
    "**\n",
    "***\n",
    "****\n",
    "*****\n",
    "******\n",
    "```"
   ],
   "cell_type": "markdown",
   "metadata": {}
  },
  {
   "cell_type": "code",
   "execution_count": null,
   "metadata": {
    "tags": []
   },
   "outputs": [],
   "source": [
    "i = int(input(\"Entrez votre nombre.\"))\n",
    "j = 0\n",
    "\n",
    "while j<=i:\n",
    "    print(\"*\" * j)\n",
    "    j = j+1"
   ]
  },
  {
   "source": [
    "**Exercice 18:**\n",
    "\n",
    "Même exercice mais cette fois la sortie est\n",
    "```\n",
    "     *\n",
    "    **         \n",
    "   ***\n",
    "  ****\n",
    " *****\n",
    "******\n",
    "```"
   ],
   "cell_type": "markdown",
   "metadata": {}
  },
  {
   "cell_type": "code",
   "execution_count": null,
   "metadata": {
    "tags": []
   },
   "outputs": [],
   "source": [
    "j = int(input(\"Veuillez entrer un nombre.\"))\n",
    "k = j-1\n",
    "l = 1\n",
    "\n",
    "for i in range (j):\n",
    "    print(\" \" * k) + (\"*\" * l))\n",
    "    k = k-1\n",
    "    l = l + 1"
   ]
  },
  {
   "source": [
    "**Exercice 19:**\n",
    "\n",
    "Ecrire un programme qui calcule, étant donné un entier *n* rentré par l'utilisateur, la plus grande puissance de *n* inférieure à un million."
   ],
   "cell_type": "markdown",
   "metadata": {}
  },
  {
   "cell_type": "code",
   "execution_count": null,
   "metadata": {
    "tags": []
   },
   "outputs": [],
   "source": [
    "n = int(input(\"Rentrez un nombre n quelconque svp.\"))\n",
    "m = 0\n",
    "\n",
    "while n**m <= 1000000:\n",
    "    m = m+1\n",
    "print(n**m)\n",
    "print(m)"
   ]
  }
 ],
 "metadata": {
  "celltoolbar": "Diaporama",
  "kernelspec": {
   "display_name": "Python 3",
   "language": "python",
   "name": "python3"
  },
  "language_info": {
   "codemirror_mode": {
    "name": "ipython",
    "version": 3
   },
   "file_extension": ".py",
   "mimetype": "text/x-python",
   "name": "python",
   "nbconvert_exporter": "python",
   "pygments_lexer": "ipython3",
   "version": "3.8.3-final"
  }
 },
 "nbformat": 4,
 "nbformat_minor": 4
}